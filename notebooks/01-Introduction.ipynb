{
 "cells": [
  {
   "cell_type": "code",
   "execution_count": null,
   "id": "7d2ff62a-7156-4545-b09a-b5796c436337",
   "metadata": {},
   "outputs": [],
   "source": [
    "import warnings\n",
    "warnings.filterwarnings(\"ignore\", category=FutureWarning)"
   ]
  },
  {
   "cell_type": "markdown",
   "id": "baccb239-cd29-4c57-8a10-a70ca89c0fed",
   "metadata": {},
   "source": [
    "# Data Management & Visualization Fall 2023\n",
    "\n",
    "Welcome to **Data Management & Visualization**, a one semester crash course on working with and visualizing data. Throughout this course we will working through many topics in data science and software developement, learning how to using code to perform data analysis and answer questions for us.\n",
    "\n",
    "### Contents:\n",
    "\n",
    "* [Introduction](#introduction)\n",
    "* [What is Data?](#what-is-data)\n",
    "* [What is Data Management?](#what-is-data-management)\n",
    "* [What is Data Visualization?](#what-is-data-visualization)\n",
    "* [What isn't Data Visualization?](#what-isnt-data-visualization)"
   ]
  },
  {
   "cell_type": "markdown",
   "id": "31ed3e9e-e674-4b91-86ca-ad741ba013a0",
   "metadata": {},
   "source": [
    "<a id='introduction'></a>\n",
    "## Introduction\n",
    "\n",
    "### Prerequisites\n",
    "\n",
    "* Register for a free account at [`GitHub`](https://www.github.com). **This is mandatory**.\n",
    "    * Send me your GitHub username in an email.\n",
    "* Register for a free account at [`Kaggle`](https://www.kaggle.com). **This is optional**\n",
    "\n",
    "### Syllabus\n",
    "\n",
    "Our syllabus can be found in two places:\n",
    "\n",
    "* [GitHub](https://github.com/ruc-data-viz/data-viz-syllabus)\n",
    "* [Canvas](https://rutgers.instructure.com/courses/254127/files/33955545)\n",
    "\n",
    "The GitHub version will always be the most up-to-date version. I will do my best to update the Canvas version whenever changes are made, but if you are ever unsure, just consult the GitHub version.\n",
    "\n",
    "### Development Environment Set Up\n",
    "\n",
    "You are free to use *any* development environment you wish. There are a handful of highly recommended ways to work through material in this course:\n",
    "\n",
    "* GitHub Codespaces\n",
    "* Conda\n",
    "* Docker + Dev Container\n",
    "\n",
    "#### GitHub Codespaces (Recommended)\n",
    "\n",
    "This is the simplest and quickest way to get started with this class! GitHub Codespaces are free and integrated directly into the course, and are preconfigured with everything you need to work from *anywhere* that has an active internet connection. The drawbacks? You need an active internet connection, and sometimes they can be slow due to resource limitations. Every repository available in this course is configured to run within a Codespace for convenience.\n",
    "\n",
    "This what we will use today.\n",
    "\n",
    "#### Conda\n",
    "\n",
    "Conda is a Python environment and package manager [for python]. You are free to install *Anaconda* (or *Miniconda*, for more advanced usage) and build the development environment locally on your PC. This set up is more complicated, but it would only need to be done once. Your laptop is likely much faster than a Codespace and you do not need an active internet connection to work. However, you would need to ensure your environment is kept up-to-date yourself.\n",
    "\n",
    "#### Docker + Dev Container\n",
    "\n",
    "This is similar to Conda above as far as benefits, with the added bonus that keeping your environment up-to-date is easier. However, the initial setup is much more difficult and you will need a relatively modern PC. This is for advanced users who already know how to use dev containers."
   ]
  },
  {
   "cell_type": "markdown",
   "id": "c79929d5-ac0d-4229-b8e8-a56218ce313a",
   "metadata": {},
   "source": [
    "<a id='what-is-data'></a>\n",
    "## What is Data?\n",
    "\n",
    "Data is simply information, and information can come in many forms. It can be qualitative or quantitative. For computing systems data can be *structured*, *unstructured*, or somewhere in the middle.\n",
    "\n",
    "* structured data is data that follows some some relational format, usually optimized for storage and/or access.\n",
    "    * e.g. databases, spreadsheets, etc.\n",
    "* unstructured data is data that is simply not structured, and is much more common than structured data. most data is unstructured\n",
    "    * e.g. images, audio, video, sensor data, surveys, etc.\n",
    "* semi-structured data is data that may be formatted using structures and standardized formats, but lacks a complete structure to its data model.\n",
    "    * e.g. JSON, YAML, XML, CSV, etc."
   ]
  },
  {
   "cell_type": "markdown",
   "id": "ba2e2a90-e89b-41c5-b228-70668acd42a4",
   "metadata": {},
   "source": [
    "<a id='what-is-data-management'></a>\n",
    "## What is Data Management?\n",
    "\n",
    "Data management is the process of loading, transforming, and storing data. Data is rarely in a usable form for a myriad of reasons.\n",
    "\n",
    "### Loading Data\n",
    "\n",
    "When working with data, is needs to be loaded into some context. In the most basic scenario this means loading data from some file and storing its contents in the computer's memory. Data however can be too large for some computing systems to do just that, and such data may not be found as a file that can be opened. We may query a large database for subset of data. We may load data from a remote server using network requests leveraging *pagination* to iteratively pull fragments of the data one at a time. We may need to map the data stored on a hardrive to our computer's memory. We may even need to asynchronously distribute the loading of the data to multiple systems!\n",
    "\n",
    "Some examples:\n",
    "\n",
    "* Query a census database for demographics data for New Jersey from 2000 through 2010.\n",
    "* Loading a CSV containing NFL players and their fantasy draft points and statistics.\n",
    "* Loading 10000 CSV files containing survery results for 10000 different districts across the country, each survey containing on average 50k entries.\n",
    "\n",
    "### Transforming Data\n",
    "\n",
    "Data is rarely in a form that is readily usable and beneficial to analytics. We usually need to distill large datasets into smaller ones that are more focused on answering a specific question. Data may contain noise, outliers, and other unwanted data points that need to be identified and filtered out. Transforming data is meant to handle *all of this*. Often times we need to fuse multiple datasets together, and to do so not only do we need to load the various pieces of data, but we also need to combine the data in ways that make sense. Transformations may be computationally costly, and so we need to actively aware of what we are doing to our data and how we are doing it.\n",
    "\n",
    "Some examples:\n",
    "\n",
    "* Joining a temperature sensor, humidity sensor, and air quality sensor on their time metric.\n",
    "* Smoothing imaging data to remove impurities due to imperfect apparatus.\n",
    "* Aggregating test scores to compute the average score, total score, and standard deviation of a test group.\n",
    "\n",
    "### Storing Data\n",
    "\n",
    "Once we have loaded and transformed our data, we very likely want to store our new data. Storing data is important so that we do not need to reload and transform the data, which can be expensive operations to perform. e.g. it may take 5 minutes to load and transform the data - should you need to wait 5 minutes every time you want to view your analysis? (NO!)\n",
    "\n",
    "Storing data can be as simple as saving your data as a file (e.g. CSV, JSON, YAML, etc.) or pushing data to a database (INSERT/UPDATE/UPSERT). It may also be more complicated as the size and complexity of the data grows. Should I store the data optimized for disk space or load times? How flat or strucuted is the data? Depending on the answers to these questions you will find you have many options for storing your data.\n",
    "\n",
    "Some examples:\n",
    "\n",
    "* Pushing sensor data to a database.\n",
    "* Storing 10Tb of data as *Parquet* files to archive it for longterm use.\n",
    "* Storing 10Gb of data as *Arrow* files to improve the rapid and iterative loading of the data."
   ]
  },
  {
   "cell_type": "markdown",
   "id": "554d53c4-021e-410f-a80d-fdccfc9d3315",
   "metadata": {},
   "source": [
    "<a id='what-is-data-visualization'></a>\n",
    "## What is Data Visualization?\n",
    "\n",
    "Data visualization is the use of graphical elements to represent data - graphical elements may be plots, charts, images, and more. Usually data is too complex, too large, or some combination of the two to comprehend. We can use visual elements to simply represent large quantities of data is small visual spaces; or to visualize complex relationships between various pieces of data. Data visualization allows us to see our data in ways that the raw data does not allow for. Consider the following dataset on iris flowers:"
   ]
  },
  {
   "cell_type": "code",
   "execution_count": null,
   "id": "f45b474a-ce9e-4aff-84fd-aac3dcae7465",
   "metadata": {},
   "outputs": [],
   "source": [
    "import pandas as pd\n",
    "iris = pd.read_csv('https://raw.githubusercontent.com/uiuc-cse/data-fa14/gh-pages/data/iris.csv')\n",
    "iris"
   ]
  },
  {
   "cell_type": "markdown",
   "id": "31fe615e-fb89-4145-8e31-bcabb3527d1b",
   "metadata": {},
   "source": [
    "What can we conclude from this data table? We can see the columns, and the number of rows, but its just too large. Simply looking at the raw data is unhelpful. But if we visualize it..."
   ]
  },
  {
   "cell_type": "code",
   "execution_count": null,
   "id": "1c743d18-aba0-40ec-b247-cc85f4384290",
   "metadata": {},
   "outputs": [],
   "source": [
    "import hvplot.pandas\n",
    "iris.hvplot.scatter(x='petal_length', y='petal_width', by='species')"
   ]
  },
  {
   "cell_type": "markdown",
   "id": "3e1c4560-c497-4d25-aee0-a484ed28ae90",
   "metadata": {},
   "source": [
    "Here we have taken our raw data and with it constructed a *scatter plot* that places the petal length on the x-axis against petal width on the y-axis, and colored each point by the species of flower associated with that data point. This visual, while omitting *sepal* data, is highly informative! We can clearly see a natural clustering within the data that shows a clear dilineation of sizes between the various species within the dataset. By staring at the raw data you *may* be able to draw the same conclusion, but by visualizing the data we can instantly see the relationships in the data. What if our data had 1000 entries, and/or 10 columns? How could we possibly reason about our data by staring at it?\n",
    "\n",
    "*We aim to tell true stories about our data*. Telling a story about data requires more than just plotting data - it requires finding ways to intuitively represent (usually many) different aspects of our data that allow users to understand as much about the data as they can.\n",
    "\n",
    "![](https://upload.wikimedia.org/wikipedia/commons/thumb/2/29/Minard.png/1920px-Minard.png)\n",
    "\n",
    "```text\n",
    "Charles Minard's map of Napoleon's disastrous Russian campaign of 1812. The graphic is notable for its representation in two dimensions of six types of data: the number of Napoleon's troops; distance; temperature; the latitude and longitude; direction of travel; and location relative to specific dates. Statistician professor Edward Tufte described the graphic as what \"may well be the best statistical graphic ever drawn\".\n",
    "```\n",
    "[https://en.wikipedia.org/wiki/Charles_Joseph_Minard](https://en.wikipedia.org/wiki/Charles_Joseph_Minard)\n"
   ]
  },
  {
   "cell_type": "markdown",
   "id": "0fbfb7b3-57ac-4b26-a2d4-b491ba5d927d",
   "metadata": {},
   "source": [
    "<a id='what-isnt-data-visualization'></a>\n",
    "## What Isn't Data Visualization?\n",
    "\n",
    "Data visualization is not *marketing*. Marketing graphics are usually focused on highlighting partial conclusions to draw in viewers. Critical information is usually skewed in ways that visually distort the message and convince the viewer some partial truths or false conclusions."
   ]
  }
 ],
 "metadata": {
  "kernelspec": {
   "display_name": "Python 3 (ipykernel)",
   "language": "python",
   "name": "python3"
  },
  "language_info": {
   "codemirror_mode": {
    "name": "ipython",
    "version": 3
   },
   "file_extension": ".py",
   "mimetype": "text/x-python",
   "name": "python",
   "nbconvert_exporter": "python",
   "pygments_lexer": "ipython3",
   "version": "3.11.5"
  }
 },
 "nbformat": 4,
 "nbformat_minor": 5
}
